{
 "cells": [
  {
   "cell_type": "code",
   "execution_count": 55,
   "metadata": {},
   "outputs": [],
   "source": [
    "import torch \n",
    "import os\n",
    "from os import listdir\n",
    "from os.path import isfile, join \n",
    "from PIL import Image"
   ]
  },
  {
   "cell_type": "code",
   "execution_count": 69,
   "metadata": {},
   "outputs": [],
   "source": [
    "\n",
    "class pre_process: \n",
    "    test_path=\"\"\n",
    "    train_path=\"\"\n",
    "    \n",
    "    def __init__(self,test_directory,train_directory): \n",
    "        self.test_path = test_directory \n",
    "        self.train_path = train_directory\n",
    "    \n",
    "    def process(self,string):\n",
    "        if string == \"train\": \n",
    "            path = self.train_path \n",
    "        else:\n",
    "            path = self.test_path\n",
    "        \n",
    "        os.chdir(path)\n",
    "        walker = list(os.walk(path))\n",
    "        filenames = walker[0][2]\n",
    "        processed_dir = os.path.join(path,\"processed\")\n",
    "        features = os.path.join(processed_dir,\"features\")\n",
    "        label = os.path.join(processed_dir,\"label\")\n",
    "        os.mkdir(processed_dir)\n",
    "        os.mkdir(features)\n",
    "        os.mkdir(label)\n",
    "        for i in filenames:\n",
    "            \n",
    "            #center crop the images, 800*800\n",
    "            im = Image.open(i)\n",
    "            left = int(im.size[0]/2-800/2)\n",
    "            upper = int(im.size[1]/2-800/2)\n",
    "            right = left +800\n",
    "            lower = upper + 800\n",
    "\n",
    "            im_cropped = im.crop((left, upper,right,lower))\n",
    "            im.resize((400,400))\n",
    "            im.save(os.path.join(label,i))\n",
    "            im.resize((200,200))\n",
    "            im.resize((400,400))\n",
    "            im.save(os.path.join(features, i))"
   ]
  },
  {
   "cell_type": "code",
   "execution_count": null,
   "metadata": {},
   "outputs": [],
   "source": [
    "train_directory = \"/home/saransh.dave/Harsh/SRCNN/data/train\"\n",
    "test_directory = \"/home/saransh.dave/Harsh/SRCNN/data/test\"\n",
    "\n",
    "ob = pre_process(test_directory,train_directory)\n",
    "ob.process(\"train\")\n",
    "ob.process(\"test\")"
   ]
  },
  {
   "cell_type": "code",
   "execution_count": null,
   "metadata": {},
   "outputs": [],
   "source": []
  }
 ],
 "metadata": {
  "kernelspec": {
   "display_name": "Python 3",
   "language": "python",
   "name": "python3"
  },
  "language_info": {
   "codemirror_mode": {
    "name": "ipython",
    "version": 3
   },
   "file_extension": ".py",
   "mimetype": "text/x-python",
   "name": "python",
   "nbconvert_exporter": "python",
   "pygments_lexer": "ipython3",
   "version": "3.8.5"
  }
 },
 "nbformat": 4,
 "nbformat_minor": 4
}
